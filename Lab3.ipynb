{
 "cells": [
  {
   "cell_type": "markdown",
   "metadata": {},
   "source": [
    "# 1.1"
   ]
  },
  {
   "cell_type": "code",
   "execution_count": 1,
   "metadata": {},
   "outputs": [
    {
     "name": "stdout",
     "output_type": "stream",
     "text": [
      "Welcome!\n",
      "my favorite # is  7\n"
     ]
    }
   ],
   "source": [
    "def conform(fav):\n",
    "    fav=42\n",
    "    return fav\n",
    "if __name__==\"__main__\":\n",
    "    print('Welcome!')\n",
    "    fav=7\n",
    "    conform(fav)\n",
    "    print(\"my favorite # is \",fav)"
   ]
  },
  {
   "cell_type": "markdown",
   "metadata": {},
   "source": [
    "# ---------------------------\n",
    "# 1.2"
   ]
  },
  {
   "cell_type": "code",
   "execution_count": 82,
   "metadata": {},
   "outputs": [
    {
     "name": "stdout",
     "output_type": "stream",
     "text": [
      "Inside the function {'A': 28, 'B': 25, 'C': 32, 'D': 25, 'E': 30, 'F': 28}\n",
      "outside the function: {'A': 28, 'B': 25, 'C': 32, 'D': 25, 'E': 30, 'F': 28}\n"
     ]
    }
   ],
   "source": [
    "student={'A':28, 'B':25, 'C':32, 'D':25}\n",
    "def test(student):\n",
    "    new={'E':30, 'F':28}\n",
    "    student.update(new)\n",
    "    print(\"Inside the function\", student)\n",
    "    return\n",
    "test(student)\n",
    "print(\"outside the function:\", student)"
   ]
  },
  {
   "cell_type": "markdown",
   "metadata": {},
   "source": [
    "# ---------------------------\n",
    "# 2.1"
   ]
  },
  {
   "cell_type": "code",
   "execution_count": 6,
   "metadata": {},
   "outputs": [
    {
     "name": "stdout",
     "output_type": "stream",
     "text": [
      "Mousa aljohani\n"
     ]
    }
   ],
   "source": [
    "class Student:\n",
    "    \n",
    "    def __init__(self,name):\n",
    "        self.name=name\n",
    "        self.course_list=[]\n",
    "std=Student(\"Mousa aljohani\")\n",
    "print(std.name)"
   ]
  },
  {
   "cell_type": "markdown",
   "metadata": {},
   "source": [
    "# ---------------------------\n",
    "# 2.2"
   ]
  },
  {
   "cell_type": "code",
   "execution_count": 7,
   "metadata": {},
   "outputs": [
    {
     "name": "stdout",
     "output_type": "stream",
     "text": [
      "['Python']\n"
     ]
    }
   ],
   "source": [
    "class Student:\n",
    "    \n",
    "    def __init__(self,name):\n",
    "        self.name=name\n",
    "        self.course_list=[]\n",
    "        \n",
    "    def add(self,new_course):\n",
    "        self.course_list.append(new_course)\n",
    "        \n",
    "std=Student(\"Mousa aljohani\")\n",
    "std.add(\"Python\")\n",
    "print(std.course_list)"
   ]
  },
  {
   "cell_type": "markdown",
   "metadata": {},
   "source": [
    "# ---------------------------\n",
    "# 2.3"
   ]
  },
  {
   "cell_type": "code",
   "execution_count": 76,
   "metadata": {},
   "outputs": [
    {
     "name": "stdin",
     "output_type": "stream",
     "text": [
      "Type something to test this out (enter '' to stop):  1\n",
      "Type something to test this out (enter '' to stop):  1\n",
      "Type something to test this out (enter '' to stop):  2\n",
      "Type something to test this out (enter '' to stop):  2\n",
      "Type something to test this out (enter '' to stop):  \n"
     ]
    },
    {
     "name": "stdout",
     "output_type": "stream",
     "text": [
      "['1', '1', '2']\n"
     ]
    }
   ],
   "source": [
    "class Student:\n",
    "    def __init__(self,name):\n",
    "        self.name=name\n",
    "        self.course_list=[]\n",
    "    def add(self,new_course):\n",
    "        self.course_list.append(new_course)\n",
    "std=Student(\"Mousa aljohani\")\n",
    "txt='0'# 0 because the while condition\n",
    "while(txt!=''):# We will continue to take input from the user intel the user press enter with embty \n",
    "    txt = input(\"Type something to test this out (enter '' to stop): \")\n",
    "    if(txt!=''):# To make sure not to add embty value to the list \"The only way i have right now :D\"\n",
    "        std.add(txt)\n",
    "if(len(std.course_list)>0):# To escape the error \"IndexError: pop from empty list\" if the list \n",
    "    std.course_list.pop()# To remove the last entered value in the list\n",
    "print(std.course_list)"
   ]
  },
  {
   "cell_type": "markdown",
   "metadata": {},
   "source": [
    "# ---------------------------\n",
    "# 2.4"
   ]
  },
  {
   "cell_type": "code",
   "execution_count": 9,
   "metadata": {},
   "outputs": [
    {
     "name": "stdout",
     "output_type": "stream",
     "text": [
      "Mousa Aljohani\n"
     ]
    }
   ],
   "source": [
    "class Person:\n",
    "    def __init__(self,fname, lname):\n",
    "        self.firstname=fname\n",
    "        self.lastname=lname\n",
    "        \n",
    "    def printname(self):\n",
    "        print(self.firstname, self.lastname)\n",
    "class Professor(Person):\n",
    "    pass\n",
    "mhd = Professor(\"Mousa\", \"Aljohani\")\n",
    "mhd.printname()"
   ]
  },
  {
   "cell_type": "markdown",
   "metadata": {},
   "source": [
    "# ---------------------------\n",
    "# 2.5"
   ]
  },
  {
   "cell_type": "code",
   "execution_count": 78,
   "metadata": {},
   "outputs": [
    {
     "name": "stdout",
     "output_type": "stream",
     "text": [
      "Mousa Aljohani\n"
     ]
    }
   ],
   "source": [
    "class Person:\n",
    "    def __init__(self,fname, lname):\n",
    "        self.firstname=fname\n",
    "        self.lastname=lname\n",
    "    def printname(self):\n",
    "        print(self.firstname, self.lastname)\n",
    "        \n",
    "class Professor(Person):\n",
    "    def __init__(self, fname, lname):\n",
    "        Person.__init__(self, fname, lname)\n",
    "mhd = Professor(\"Mousa\", \"Aljohani\")\n",
    "mhd.printname()"
   ]
  },
  {
   "cell_type": "markdown",
   "metadata": {},
   "source": [
    "# ---------------------------\n",
    "# 2.6"
   ]
  },
  {
   "cell_type": "code",
   "execution_count": 81,
   "metadata": {},
   "outputs": [
    {
     "name": "stdout",
     "output_type": "stream",
     "text": [
      "Pr. Mousa Aljohani Information System\n"
     ]
    }
   ],
   "source": [
    "class Person:\n",
    "    def __init__(self,fname, lname):\n",
    "        self.firstname=fname\n",
    "        self.lastname=lname\n",
    "    def printname(self):\n",
    "        print(self.firstname, self.lastname)\n",
    "        \n",
    "class Professor(Person):\n",
    "    def __init__(self,fname, lname):\n",
    "        self.department= 'Information System'\n",
    "        Person.__init__(self,fname, lname)\n",
    "    def printname(self):\n",
    "        print(\"Pr.\",self.firstname, self.lastname,self.department)\n",
    "mhd = Professor(\"Mousa\", \"Aljohani\")\n",
    "mhd.printname()"
   ]
  },
  {
   "cell_type": "code",
   "execution_count": null,
   "metadata": {},
   "outputs": [],
   "source": []
  }
 ],
 "metadata": {
  "kernelspec": {
   "display_name": "Python 3",
   "language": "python",
   "name": "python3"
  },
  "language_info": {
   "codemirror_mode": {
    "name": "ipython",
    "version": 3
   },
   "file_extension": ".py",
   "mimetype": "text/x-python",
   "name": "python",
   "nbconvert_exporter": "python",
   "pygments_lexer": "ipython3",
   "version": "3.8.5"
  }
 },
 "nbformat": 4,
 "nbformat_minor": 4
}
