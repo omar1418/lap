#!/usr/bin/env python
# coding: utf-8

# In[2]:


pip install mlxtend


# In[2]:


from mlxtend.frequent_patterns import apriori


# In[4]:


dataset=[['Drink','Nuts','Diaper'],

    ['Drink','Coffee','Diaper'],

    ['Drink','Diaper','Eggs'],

    ['Nuts','Eggs','Milk'],

    ['Nuts','Coffee','Diaper','Eggs','Milk']]


# In[5]:


dataset


# In[6]:


import pandas as pd
from mlxtend.preprocessing import TransactionEncoder

TranEncod = TransactionEncoder()
te_ary = TranEncod.fit(dataset).transform(dataset)
df = pd.DataFrame(te_ary, columns = TranEncod.columns_)


# In[7]:


df


# In[8]:


apriori(df, min_support=0.6)


# In[9]:


apriori(df, min_support=0.6, use_colnames=True)


# In[10]:


frequent_itemsets = apriori (df, min_support = 0.5, use_colnames=True)
frequent_itemsets['length']= frequent_itemsets['itemsets'].apply(lambda x:len(x))
frequent_itemsets


# In[11]:


frequent_itemsets[ (frequent_itemsets['length'] == 2)&
                   (frequent_itemsets['support'] >= 0.5)]


# In[14]:


frequent_itemsets[ frequent_itemsets['itemsets'] == {'Nuts', 'Drink'} ]


# In[22]:


x = frequent_itemsets[ frequent_itemsets['itemsets'] == {'Nuts'} ]
print (x['support'])


# In[23]:


from mlxtend.frequent_patterns import association_rules


association_rules(frequent_itemsets, metric="confidence", min_threshold=0.7)


# In[ ]:




